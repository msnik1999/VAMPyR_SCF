{
 "cells": [
  {
   "cell_type": "markdown",
   "id": "a4e94f00",
   "metadata": {},
   "source": [
    "# Testing and running the SCF solver"
   ]
  },
  {
   "cell_type": "code",
   "execution_count": null,
   "id": "440b80ab",
   "metadata": {},
   "outputs": [],
   "source": [
    "import sys\n",
    "sys.path.append('/home/ngoel/programs/vampyr/build/lib/python3.13/site-packages')\n",
    "import numpy as np\n",
    "from vampyr import vampyr3d as vp\n",
    "import system\n",
    "import kain\n",
    "\n",
    "precision = 1e-4\n",
    "threshold = precision * 10\n",
    "\n",
    "mra = system.initMRA(nBoxes=2, scaling = 1.0, scale = -4, order = 8)\n",
    "# Water 1\n",
    "atom1 = system.Atom(coords = (3.03640321, -0.125273197, 0.165537034), charge = 8)\n",
    "atom2 = system.Atom(coords = (1.20775692, 0.126394035, 0.040864271), charge = 1)\n",
    "atom3 = system.Atom(coords = (3.7449532, 1.653846757, 0.068992382), charge = 1)\n",
    "molecule = system.Molecule(atoms = [atom1, atom2, atom3], path=\"../../water_4/\")\n",
    "\n",
    "# Water 2\n",
    "# atom4 = Atom(coords = (-2.236881593, 0.079767042, -0.135775327), charge = 8)\n",
    "# atom5 = Atom(coords = (-2.80936204, -0.932460622, -1.444139354), charge = 1)\n",
    "# atom6 = Atom(coords = (-2.942869717, -0.602274003, 1.504521009), charge = 1)\n",
    "# molecule = Molecule(atoms = [atom1, atom2, atom3, atom4, atom5, atom6], path=\"./diwater_5/\")\n",
    "# he1 = Atom(coords = (0.0, 0.0, 1.5), charge = 2)\n",
    "# he2 = Atom(coords = (0.0, 0.0, -1.5), charge = 2)\n",
    "# molecule = Molecule(atoms = [he1, he2], path = \"./he2_4/\")\n",
    "\n",
    "scf = kain.SCF(molecule, mra, precision)\n",
    "Phi, energies, updates = scf.runSCF(threshold = threshold, maxIter = 100, kain_start = 0, kain_history = 5)\n",
    "\n",
    "print(updates)"
   ]
  }
 ],
 "metadata": {
  "kernelspec": {
   "display_name": "vampyr",
   "language": "python",
   "name": "python3"
  },
  "language_info": {
   "codemirror_mode": {
    "name": "ipython",
    "version": 3
   },
   "file_extension": ".py",
   "mimetype": "text/x-python",
   "name": "python",
   "nbconvert_exporter": "python",
   "pygments_lexer": "ipython3",
   "version": "3.13.7"
  }
 },
 "nbformat": 4,
 "nbformat_minor": 5
}
